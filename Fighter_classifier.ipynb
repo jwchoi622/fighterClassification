{
  "nbformat": 4,
  "nbformat_minor": 0,
  "metadata": {
    "colab": {
      "provenance": []
    },
    "kernelspec": {
      "name": "python3",
      "display_name": "Python 3"
    },
    "language_info": {
      "name": "python"
    }
  },
  "cells": [
    {
      "cell_type": "code",
      "execution_count": 19,
      "metadata": {
        "colab": {
          "base_uri": "https://localhost:8080/"
        },
        "id": "rUPUYnb5yjL1",
        "outputId": "c77002ae-8998-4782-c947-46140f0c40b2"
      },
      "outputs": [
        {
          "output_type": "stream",
          "name": "stdout",
          "text": [
            "Looking in indexes: https://pypi.org/simple, https://us-python.pkg.dev/colab-wheels/public/simple/\n",
            "Requirement already satisfied: keras in /usr/local/lib/python3.10/dist-packages (2.12.0)\n",
            "Looking in indexes: https://pypi.org/simple, https://us-python.pkg.dev/colab-wheels/public/simple/\n",
            "Requirement already satisfied: tensorflow in /usr/local/lib/python3.10/dist-packages (2.12.0)\n",
            "Requirement already satisfied: absl-py>=1.0.0 in /usr/local/lib/python3.10/dist-packages (from tensorflow) (1.4.0)\n",
            "Requirement already satisfied: astunparse>=1.6.0 in /usr/local/lib/python3.10/dist-packages (from tensorflow) (1.6.3)\n",
            "Requirement already satisfied: flatbuffers>=2.0 in /usr/local/lib/python3.10/dist-packages (from tensorflow) (23.3.3)\n",
            "Requirement already satisfied: gast<=0.4.0,>=0.2.1 in /usr/local/lib/python3.10/dist-packages (from tensorflow) (0.4.0)\n",
            "Requirement already satisfied: google-pasta>=0.1.1 in /usr/local/lib/python3.10/dist-packages (from tensorflow) (0.2.0)\n",
            "Requirement already satisfied: grpcio<2.0,>=1.24.3 in /usr/local/lib/python3.10/dist-packages (from tensorflow) (1.54.0)\n",
            "Requirement already satisfied: h5py>=2.9.0 in /usr/local/lib/python3.10/dist-packages (from tensorflow) (3.8.0)\n",
            "Requirement already satisfied: jax>=0.3.15 in /usr/local/lib/python3.10/dist-packages (from tensorflow) (0.4.8)\n",
            "Requirement already satisfied: keras<2.13,>=2.12.0 in /usr/local/lib/python3.10/dist-packages (from tensorflow) (2.12.0)\n",
            "Requirement already satisfied: libclang>=13.0.0 in /usr/local/lib/python3.10/dist-packages (from tensorflow) (16.0.0)\n",
            "Requirement already satisfied: numpy<1.24,>=1.22 in /usr/local/lib/python3.10/dist-packages (from tensorflow) (1.22.4)\n",
            "Requirement already satisfied: opt-einsum>=2.3.2 in /usr/local/lib/python3.10/dist-packages (from tensorflow) (3.3.0)\n",
            "Requirement already satisfied: packaging in /usr/local/lib/python3.10/dist-packages (from tensorflow) (23.1)\n",
            "Requirement already satisfied: protobuf!=4.21.0,!=4.21.1,!=4.21.2,!=4.21.3,!=4.21.4,!=4.21.5,<5.0.0dev,>=3.20.3 in /usr/local/lib/python3.10/dist-packages (from tensorflow) (3.20.3)\n",
            "Requirement already satisfied: setuptools in /usr/local/lib/python3.10/dist-packages (from tensorflow) (67.7.2)\n",
            "Requirement already satisfied: six>=1.12.0 in /usr/local/lib/python3.10/dist-packages (from tensorflow) (1.16.0)\n",
            "Requirement already satisfied: tensorboard<2.13,>=2.12 in /usr/local/lib/python3.10/dist-packages (from tensorflow) (2.12.2)\n",
            "Requirement already satisfied: tensorflow-estimator<2.13,>=2.12.0 in /usr/local/lib/python3.10/dist-packages (from tensorflow) (2.12.0)\n",
            "Requirement already satisfied: termcolor>=1.1.0 in /usr/local/lib/python3.10/dist-packages (from tensorflow) (2.3.0)\n",
            "Requirement already satisfied: typing-extensions>=3.6.6 in /usr/local/lib/python3.10/dist-packages (from tensorflow) (4.5.0)\n",
            "Requirement already satisfied: wrapt<1.15,>=1.11.0 in /usr/local/lib/python3.10/dist-packages (from tensorflow) (1.14.1)\n",
            "Requirement already satisfied: tensorflow-io-gcs-filesystem>=0.23.1 in /usr/local/lib/python3.10/dist-packages (from tensorflow) (0.32.0)\n",
            "Requirement already satisfied: wheel<1.0,>=0.23.0 in /usr/local/lib/python3.10/dist-packages (from astunparse>=1.6.0->tensorflow) (0.40.0)\n",
            "Requirement already satisfied: ml-dtypes>=0.0.3 in /usr/local/lib/python3.10/dist-packages (from jax>=0.3.15->tensorflow) (0.1.0)\n",
            "Requirement already satisfied: scipy>=1.7 in /usr/local/lib/python3.10/dist-packages (from jax>=0.3.15->tensorflow) (1.10.1)\n",
            "Requirement already satisfied: google-auth<3,>=1.6.3 in /usr/local/lib/python3.10/dist-packages (from tensorboard<2.13,>=2.12->tensorflow) (2.17.3)\n",
            "Requirement already satisfied: google-auth-oauthlib<1.1,>=0.5 in /usr/local/lib/python3.10/dist-packages (from tensorboard<2.13,>=2.12->tensorflow) (1.0.0)\n",
            "Requirement already satisfied: markdown>=2.6.8 in /usr/local/lib/python3.10/dist-packages (from tensorboard<2.13,>=2.12->tensorflow) (3.4.3)\n",
            "Requirement already satisfied: requests<3,>=2.21.0 in /usr/local/lib/python3.10/dist-packages (from tensorboard<2.13,>=2.12->tensorflow) (2.27.1)\n",
            "Requirement already satisfied: tensorboard-data-server<0.8.0,>=0.7.0 in /usr/local/lib/python3.10/dist-packages (from tensorboard<2.13,>=2.12->tensorflow) (0.7.0)\n",
            "Requirement already satisfied: tensorboard-plugin-wit>=1.6.0 in /usr/local/lib/python3.10/dist-packages (from tensorboard<2.13,>=2.12->tensorflow) (1.8.1)\n",
            "Requirement already satisfied: werkzeug>=1.0.1 in /usr/local/lib/python3.10/dist-packages (from tensorboard<2.13,>=2.12->tensorflow) (2.3.0)\n",
            "Requirement already satisfied: cachetools<6.0,>=2.0.0 in /usr/local/lib/python3.10/dist-packages (from google-auth<3,>=1.6.3->tensorboard<2.13,>=2.12->tensorflow) (5.3.0)\n",
            "Requirement already satisfied: pyasn1-modules>=0.2.1 in /usr/local/lib/python3.10/dist-packages (from google-auth<3,>=1.6.3->tensorboard<2.13,>=2.12->tensorflow) (0.3.0)\n",
            "Requirement already satisfied: rsa<5,>=3.1.4 in /usr/local/lib/python3.10/dist-packages (from google-auth<3,>=1.6.3->tensorboard<2.13,>=2.12->tensorflow) (4.9)\n",
            "Requirement already satisfied: requests-oauthlib>=0.7.0 in /usr/local/lib/python3.10/dist-packages (from google-auth-oauthlib<1.1,>=0.5->tensorboard<2.13,>=2.12->tensorflow) (1.3.1)\n",
            "Requirement already satisfied: urllib3<1.27,>=1.21.1 in /usr/local/lib/python3.10/dist-packages (from requests<3,>=2.21.0->tensorboard<2.13,>=2.12->tensorflow) (1.26.15)\n",
            "Requirement already satisfied: certifi>=2017.4.17 in /usr/local/lib/python3.10/dist-packages (from requests<3,>=2.21.0->tensorboard<2.13,>=2.12->tensorflow) (2022.12.7)\n",
            "Requirement already satisfied: charset-normalizer~=2.0.0 in /usr/local/lib/python3.10/dist-packages (from requests<3,>=2.21.0->tensorboard<2.13,>=2.12->tensorflow) (2.0.12)\n",
            "Requirement already satisfied: idna<4,>=2.5 in /usr/local/lib/python3.10/dist-packages (from requests<3,>=2.21.0->tensorboard<2.13,>=2.12->tensorflow) (3.4)\n",
            "Requirement already satisfied: MarkupSafe>=2.1.1 in /usr/local/lib/python3.10/dist-packages (from werkzeug>=1.0.1->tensorboard<2.13,>=2.12->tensorflow) (2.1.2)\n",
            "Requirement already satisfied: pyasn1<0.6.0,>=0.4.6 in /usr/local/lib/python3.10/dist-packages (from pyasn1-modules>=0.2.1->google-auth<3,>=1.6.3->tensorboard<2.13,>=2.12->tensorflow) (0.5.0)\n",
            "Requirement already satisfied: oauthlib>=3.0.0 in /usr/local/lib/python3.10/dist-packages (from requests-oauthlib>=0.7.0->google-auth-oauthlib<1.1,>=0.5->tensorboard<2.13,>=2.12->tensorflow) (3.2.2)\n"
          ]
        }
      ],
      "source": [
        "!pip install keras\n",
        "!pip install tensorflow"
      ]
    },
    {
      "cell_type": "code",
      "source": [
        "from google.colab import drive\n",
        "drive.mount('/content/drive')"
      ],
      "metadata": {
        "colab": {
          "base_uri": "https://localhost:8080/"
        },
        "id": "_ADTlC0Sylry",
        "outputId": "a0231174-7c93-42ec-bb35-6dbd41613a99"
      },
      "execution_count": 20,
      "outputs": [
        {
          "output_type": "stream",
          "name": "stdout",
          "text": [
            "Drive already mounted at /content/drive; to attempt to forcibly remount, call drive.mount(\"/content/drive\", force_remount=True).\n"
          ]
        }
      ]
    },
    {
      "cell_type": "code",
      "source": [
        "import numpy as np\n",
        "import pandas as pd\n",
        "import os\n",
        "import random\n",
        "\n",
        "import matplotlib.image as mpimg\n",
        "import matplotlib.pyplot as plt\n",
        "import seaborn as sns\n",
        "import cv2\n",
        "\n",
        "import tensorflow\n",
        "\n",
        "from keras.preprocessing.image import ImageDataGenerator\n",
        "\n",
        "%matplotlib inline\n",
        "\n"
      ],
      "metadata": {
        "id": "x7dj4bt6y3xB"
      },
      "execution_count": 21,
      "outputs": []
    },
    {
      "cell_type": "code",
      "source": [
        "TrainingImagePath = '/content/drive/MyDrive/dataset/train'\n",
        "TestingImagePath = '/content/drive/MyDrive/dataset/test'\n",
        "ValidationImagePath = '/content/drive/MyDrive/dataset/validation'\n",
        "\n"
      ],
      "metadata": {
        "id": "3_7Lmn4IzrpV"
      },
      "execution_count": 22,
      "outputs": []
    },
    {
      "cell_type": "code",
      "source": [
        "train_datagen = ImageDataGenerator(\n",
        "    rescale=1./255,\n",
        "    shear_range=0.1,\n",
        "    zoom_range=0.1,\n",
        "    horizontal_flip=True\n",
        ")"
      ],
      "metadata": {
        "id": "LRopU8l4zwo7"
      },
      "execution_count": 23,
      "outputs": []
    },
    {
      "cell_type": "code",
      "source": [
        "test_datagen = ImageDataGenerator(rescale=1./255)"
      ],
      "metadata": {
        "id": "3ydnRE6T0Jqp"
      },
      "execution_count": 24,
      "outputs": []
    },
    {
      "cell_type": "code",
      "source": [
        "training_set = train_datagen.flow_from_directory(\n",
        "    TrainingImagePath,\n",
        "    target_size=(128,128),\n",
        "    batch_size=32,\n",
        "    class_mode='categorical'\n",
        ")"
      ],
      "metadata": {
        "colab": {
          "base_uri": "https://localhost:8080/"
        },
        "id": "jvBd6TMh0PLW",
        "outputId": "728ede6c-b685-4568-bb28-4b37a108e9e5"
      },
      "execution_count": 25,
      "outputs": [
        {
          "output_type": "stream",
          "name": "stdout",
          "text": [
            "Found 202 images belonging to 5 classes.\n"
          ]
        }
      ]
    },
    {
      "cell_type": "code",
      "source": [
        "# Function to plot any random image from dataset\n",
        "def showImages(class_name):\n",
        "    random_index = random.choice(list(range(1, 49)))\n",
        "    folder_path=os.path.join(TrainingImagePath, class_name)\n",
        "    try:\n",
        "        image_path=os.path.join(folder_path,str(random_index).zfill(3)+\".jpg\")\n",
        "        plt.imshow(mpimg.imread(image_path))\n",
        "    except:\n",
        "        image_path=os.path.join(folder_path,str(random_index).zfill(2)+\".jpg\")\n",
        "        plt.imshow(mpimg.imread(image_path))\n",
        "    plt.title(class_name)\n",
        "    plt.axis(False)"
      ],
      "metadata": {
        "id": "SkodjKeI0qNe"
      },
      "execution_count": 26,
      "outputs": []
    },
    {
      "cell_type": "code",
      "source": [
        "test_set = test_datagen.flow_from_directory(\n",
        "    TestingImagePath,\n",
        "    target_size=(128,128),\n",
        "    batch_size=32,\n",
        "    class_mode='categorical'\n",
        ")"
      ],
      "metadata": {
        "colab": {
          "base_uri": "https://localhost:8080/"
        },
        "id": "1hb1OcXz0eAa",
        "outputId": "8ce0a32f-d44e-4cb8-cb02-9357bfbc1594"
      },
      "execution_count": 27,
      "outputs": [
        {
          "output_type": "stream",
          "name": "stdout",
          "text": [
            "Found 11 images belonging to 5 classes.\n"
          ]
        }
      ]
    },
    {
      "cell_type": "code",
      "source": [
        "# Generating the valid Data\n",
        "valid_set = test_datagen.flow_from_directory(\n",
        "        ValidationImagePath,\n",
        "        target_size=(128, 128),\n",
        "        batch_size=32,\n",
        "        class_mode='categorical')"
      ],
      "metadata": {
        "colab": {
          "base_uri": "https://localhost:8080/"
        },
        "id": "ffMjelRI2wpy",
        "outputId": "080bce0d-debc-4216-e5a3-c54b3cbb5970"
      },
      "execution_count": 28,
      "outputs": [
        {
          "output_type": "stream",
          "name": "stdout",
          "text": [
            "Found 5 images belonging to 5 classes.\n"
          ]
        }
      ]
    },
    {
      "cell_type": "code",
      "source": [
        "# Printing class labels for each face\n",
        "test_set.class_indices"
      ],
      "metadata": {
        "colab": {
          "base_uri": "https://localhost:8080/"
        },
        "id": "-X0yQ-EH1NxJ",
        "outputId": "88abc390-ddf8-4890-a63a-730ab27c2a3d"
      },
      "execution_count": 29,
      "outputs": [
        {
          "output_type": "execute_result",
          "data": {
            "text/plain": [
              "{'chael_sonnen': 0,\n",
              " 'conor_mcgregor': 1,\n",
              " 'daniel_cormier': 2,\n",
              " 'jon_jones': 3,\n",
              " 'sean_omalley': 4}"
            ]
          },
          "metadata": {},
          "execution_count": 29
        }
      ]
    },
    {
      "cell_type": "code",
      "source": [
        "# class_indices have the numeric tag for each balls\n",
        "TrainClasses=training_set.class_indices\n",
        "\n",
        "# Storing the face and the numeric tag for future reference\n",
        "ResultMap={}\n",
        "for ballValue,ballName in zip(TrainClasses.values(),TrainClasses.keys()):\n",
        "    ResultMap[ballValue]=ballName\n",
        "\n",
        "# Saving the face map for future reference\n",
        "import pickle\n",
        "with open(R\"E:\\Data Sets\\Balls Classification\\ResultsMap.pkl\", 'wb') as f:\n",
        "    pickle.dump(ResultMap, f, pickle.HIGHEST_PROTOCOL)\n",
        "\n",
        "print(\"Mapping of Face and its ID\",ResultMap)\n",
        "\n",
        "# The number of neurons for the output layer is equal to the number of faces\n",
        "OutputNeurons=len(ResultMap)\n",
        "print('\\n The Number of output neurons: ', OutputNeurons)"
      ],
      "metadata": {
        "colab": {
          "base_uri": "https://localhost:8080/"
        },
        "id": "-0iwE_eY1PdF",
        "outputId": "42ec4ead-e829-42eb-caf4-f1028a89ade0"
      },
      "execution_count": 30,
      "outputs": [
        {
          "output_type": "stream",
          "name": "stdout",
          "text": [
            "Mapping of Face and its ID {0: 'chael_sonnen', 1: 'conor_mcgregor', 2: 'daniel_cormier', 3: 'jon_jones', 4: 'sean_omalley'}\n",
            "\n",
            " The Number of output neurons:  5\n"
          ]
        }
      ]
    },
    {
      "cell_type": "code",
      "source": [
        "'''######################## Create CNN deep learning model ####################################'''\n",
        "from keras.models import Sequential\n",
        "from keras.layers import Convolution2D\n",
        "from keras.layers import MaxPool2D\n",
        "from keras.layers import Flatten\n",
        "from keras.layers import Dense\n",
        "\n",
        "'''Initializing the Convolutional Neural Network'''\n",
        "classifier= Sequential()\n",
        "\n",
        "''' STEP--1 Convolution\n",
        "# Adding the first layer of CNN\n",
        "# we are using the format (64,64,3) because we are using TensorFlow backend\n",
        "# It means 3 matrix of size (64X64) pixels representing Red, Green and Blue components of pixels\n",
        "'''\n",
        "classifier.add(Convolution2D(32, kernel_size=(3, 3), strides=(1, 1), input_shape=(128,128,3), activation='relu'))\n",
        "\n",
        "'''# STEP--2 MAX Pooling'''\n",
        "classifier.add(MaxPool2D(pool_size=(2,2)))\n",
        "\n",
        "'''############## ADDITIONAL LAYER of CONVOLUTION for better accuracy #################'''\n",
        "classifier.add(Convolution2D(64, kernel_size=(3, 3), strides=(1, 1), activation='relu'))\n",
        "\n",
        "classifier.add(MaxPool2D(pool_size=(2,2)))\n",
        "\n",
        "\n",
        "'''# STEP--3 FLattening'''\n",
        "classifier.add(Flatten())\n",
        "\n",
        "'''# STEP--4 Fully Connected Neural Network'''\n",
        "classifier.add(Dense(256, activation='relu'))\n",
        "\n",
        "classifier.add(Dense(OutputNeurons, activation='softmax'))\n",
        "\n",
        "'''# Compiling the CNN'''\n",
        "#classifier.compile(loss='binary_crossentropy', optimizer='adam', metrics=['accuracy'])\n",
        "classifier.compile(loss='categorical_crossentropy', optimizer = 'rmsprop', metrics=[\"accuracy\"])"
      ],
      "metadata": {
        "id": "dKP9PzHU1Xuc"
      },
      "execution_count": 31,
      "outputs": []
    },
    {
      "cell_type": "code",
      "source": [
        "classifier.summary()"
      ],
      "metadata": {
        "colab": {
          "base_uri": "https://localhost:8080/"
        },
        "id": "MK1Q16fI1asL",
        "outputId": "31a5b18c-e9e4-4fb3-cbc3-f623a8428484"
      },
      "execution_count": 32,
      "outputs": [
        {
          "output_type": "stream",
          "name": "stdout",
          "text": [
            "Model: \"sequential_1\"\n",
            "_________________________________________________________________\n",
            " Layer (type)                Output Shape              Param #   \n",
            "=================================================================\n",
            " conv2d_2 (Conv2D)           (None, 126, 126, 32)      896       \n",
            "                                                                 \n",
            " max_pooling2d_2 (MaxPooling  (None, 63, 63, 32)       0         \n",
            " 2D)                                                             \n",
            "                                                                 \n",
            " conv2d_3 (Conv2D)           (None, 61, 61, 64)        18496     \n",
            "                                                                 \n",
            " max_pooling2d_3 (MaxPooling  (None, 30, 30, 64)       0         \n",
            " 2D)                                                             \n",
            "                                                                 \n",
            " flatten_1 (Flatten)         (None, 57600)             0         \n",
            "                                                                 \n",
            " dense_2 (Dense)             (None, 256)               14745856  \n",
            "                                                                 \n",
            " dense_3 (Dense)             (None, 5)                 1285      \n",
            "                                                                 \n",
            "=================================================================\n",
            "Total params: 14,766,533\n",
            "Trainable params: 14,766,533\n",
            "Non-trainable params: 0\n",
            "_________________________________________________________________\n"
          ]
        }
      ]
    },
    {
      "cell_type": "code",
      "source": [
        "import time\n",
        "# Measuring the time taken by the model to train\n",
        "StartTime=time.time()\n",
        "\n",
        "# Starting the model training\n",
        "model_history=classifier.fit_generator(\n",
        "                                        training_set,\n",
        "                                        steps_per_epoch=len(training_set),\n",
        "                                        epochs=20,\n",
        "                                        validation_data=valid_set,\n",
        "                                        validation_steps=len(valid_set),\n",
        "                                        verbose=1)\n",
        "\n",
        "EndTime=time.time()\n",
        "print(\"############### Total Time Taken: \", round((EndTime-StartTime)/60), 'Minutes #############')"
      ],
      "metadata": {
        "colab": {
          "base_uri": "https://localhost:8080/"
        },
        "id": "Ws8a8Dky1eJL",
        "outputId": "5162576a-e183-4baa-96f8-6b0583615547"
      },
      "execution_count": 33,
      "outputs": [
        {
          "output_type": "stream",
          "name": "stderr",
          "text": [
            "<ipython-input-33-18b6e7723b8a>:6: UserWarning: `Model.fit_generator` is deprecated and will be removed in a future version. Please use `Model.fit`, which supports generators.\n",
            "  model_history=classifier.fit_generator(\n"
          ]
        },
        {
          "output_type": "stream",
          "name": "stdout",
          "text": [
            "Epoch 1/20\n",
            "7/7 [==============================] - 49s 6s/step - loss: 4.9998 - accuracy: 0.2079 - val_loss: 1.6812 - val_accuracy: 0.2000\n",
            "Epoch 2/20\n",
            "7/7 [==============================] - 11s 1s/step - loss: 1.5600 - accuracy: 0.3069 - val_loss: 1.6531 - val_accuracy: 0.2000\n",
            "Epoch 3/20\n",
            "7/7 [==============================] - 10s 1s/step - loss: 1.5338 - accuracy: 0.3267 - val_loss: 1.6827 - val_accuracy: 0.0000e+00\n",
            "Epoch 4/20\n",
            "7/7 [==============================] - 10s 1s/step - loss: 1.5026 - accuracy: 0.3564 - val_loss: 1.6971 - val_accuracy: 0.0000e+00\n",
            "Epoch 5/20\n",
            "7/7 [==============================] - 11s 2s/step - loss: 1.5104 - accuracy: 0.4307 - val_loss: 1.7324 - val_accuracy: 0.2000\n",
            "Epoch 6/20\n",
            "7/7 [==============================] - 10s 2s/step - loss: 1.3406 - accuracy: 0.4802 - val_loss: 2.0169 - val_accuracy: 0.0000e+00\n",
            "Epoch 7/20\n",
            "7/7 [==============================] - 9s 1s/step - loss: 1.3418 - accuracy: 0.5000 - val_loss: 1.6874 - val_accuracy: 0.2000\n",
            "Epoch 8/20\n",
            "7/7 [==============================] - 11s 2s/step - loss: 1.1163 - accuracy: 0.5545 - val_loss: 1.7801 - val_accuracy: 0.0000e+00\n",
            "Epoch 9/20\n",
            "7/7 [==============================] - 9s 1s/step - loss: 1.0368 - accuracy: 0.6040 - val_loss: 1.8249 - val_accuracy: 0.0000e+00\n",
            "Epoch 10/20\n",
            "7/7 [==============================] - 10s 1s/step - loss: 1.0459 - accuracy: 0.5743 - val_loss: 1.8886 - val_accuracy: 0.2000\n",
            "Epoch 11/20\n",
            "7/7 [==============================] - 11s 1s/step - loss: 0.9136 - accuracy: 0.6634 - val_loss: 1.8286 - val_accuracy: 0.0000e+00\n",
            "Epoch 12/20\n",
            "7/7 [==============================] - 9s 1s/step - loss: 0.7672 - accuracy: 0.7277 - val_loss: 2.1178 - val_accuracy: 0.2000\n",
            "Epoch 13/20\n",
            "7/7 [==============================] - 10s 1s/step - loss: 0.5937 - accuracy: 0.7970 - val_loss: 4.6766 - val_accuracy: 0.2000\n",
            "Epoch 14/20\n",
            "7/7 [==============================] - 11s 2s/step - loss: 0.7313 - accuracy: 0.7277 - val_loss: 2.3265 - val_accuracy: 0.0000e+00\n",
            "Epoch 15/20\n",
            "7/7 [==============================] - 9s 1s/step - loss: 0.4610 - accuracy: 0.8713 - val_loss: 2.8164 - val_accuracy: 0.2000\n",
            "Epoch 16/20\n",
            "7/7 [==============================] - 11s 1s/step - loss: 0.3813 - accuracy: 0.8762 - val_loss: 2.9342 - val_accuracy: 0.2000\n",
            "Epoch 17/20\n",
            "7/7 [==============================] - 10s 1s/step - loss: 0.2875 - accuracy: 0.9158 - val_loss: 2.9136 - val_accuracy: 0.0000e+00\n",
            "Epoch 18/20\n",
            "7/7 [==============================] - 10s 1s/step - loss: 0.5729 - accuracy: 0.8218 - val_loss: 2.6919 - val_accuracy: 0.2000\n",
            "Epoch 19/20\n",
            "7/7 [==============================] - 11s 2s/step - loss: 0.2446 - accuracy: 0.9257 - val_loss: 4.5569 - val_accuracy: 0.0000e+00\n",
            "Epoch 20/20\n",
            "7/7 [==============================] - 9s 1s/step - loss: 0.2959 - accuracy: 0.9059 - val_loss: 2.4816 - val_accuracy: 0.0000e+00\n",
            "############### Total Time Taken:  5 Minutes #############\n"
          ]
        }
      ]
    },
    {
      "cell_type": "code",
      "source": [
        "accuracy = model_history.history['accuracy']\n",
        "val_accuracy  = model_history.history['val_accuracy']\n",
        "\n",
        "loss = model_history.history['loss']\n",
        "val_loss = model_history.history['val_loss']"
      ],
      "metadata": {
        "id": "_wRa0z_C3ILh"
      },
      "execution_count": 34,
      "outputs": []
    },
    {
      "cell_type": "code",
      "source": [
        "plt.figure(figsize=(15,10))\n",
        "\n",
        "plt.subplot(2, 2, 1)\n",
        "plt.plot(accuracy, label = \"Training accuracy\")\n",
        "plt.plot(val_accuracy, label=\"Validation accuracy\")\n",
        "plt.legend()\n",
        "plt.title(\"Training vs validation accuracy\")\n",
        "\n",
        "\n",
        "plt.subplot(2,2,2)\n",
        "plt.plot(loss, label = \"Training loss\")\n",
        "plt.plot(val_loss, label=\"Validation loss\")\n",
        "plt.legend()\n",
        "plt.title(\"Training vs validation loss\")\n",
        "\n",
        "plt.show()"
      ],
      "metadata": {
        "colab": {
          "base_uri": "https://localhost:8080/",
          "height": 433
        },
        "id": "Pt5v66RD4blm",
        "outputId": "566b0cbb-d5b1-469a-db33-ebcecf9395aa"
      },
      "execution_count": 35,
      "outputs": [
        {
          "output_type": "display_data",
          "data": {
            "text/plain": [
              "<Figure size 1500x1000 with 2 Axes>"
            ],
            "image/png": "[encoded data removed]"
          },
          "metadata": {}
        }
      ]
    },
    {
      "cell_type": "code",
      "source": [],
      "metadata": {
        "id": "-C5U0orH4daK"
      },
      "execution_count": 36,
      "outputs": []
    },
    {
      "cell_type": "code",
      "source": [],
      "metadata": {
        "id": "hNaL1Gb04hVH"
      },
      "execution_count": null,
      "outputs": []
    }
  ]
}